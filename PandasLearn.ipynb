{
 "cells": [
  {
   "cell_type": "code",
   "execution_count": 7,
   "metadata": {
    "collapsed": true,
    "pycharm": {
     "is_executing": false
    }
   },
   "outputs": [],
   "source": [
    "#pandas学习"
   ]
  },
  {
   "cell_type": "code",
   "execution_count": 8,
   "outputs": [
    {
     "name": "stdout",
     "text": [
      "     A    B    C    D     E\n",
      "2  1.0  2.0  3.0  4.0   5.0\n",
      "3  6.0  7.0  8.0  9.0  10.0\n"
     ],
     "output_type": "stream"
    },
    {
     "data": {
      "text/plain": "     A    B    C    D   E\n2  0.0  2.0  3.0  4.0 NaN\n3  0.0  5.0  5.0  5.0 NaN",
      "text/html": "<div>\n<style scoped>\n    .dataframe tbody tr th:only-of-type {\n        vertical-align: middle;\n    }\n\n    .dataframe tbody tr th {\n        vertical-align: top;\n    }\n\n    .dataframe thead th {\n        text-align: right;\n    }\n</style>\n<table border=\"1\" class=\"dataframe\">\n  <thead>\n    <tr style=\"text-align: right;\">\n      <th></th>\n      <th>A</th>\n      <th>B</th>\n      <th>C</th>\n      <th>D</th>\n      <th>E</th>\n    </tr>\n  </thead>\n  <tbody>\n    <tr>\n      <th>2</th>\n      <td>0.0</td>\n      <td>2.0</td>\n      <td>3.0</td>\n      <td>4.0</td>\n      <td>NaN</td>\n    </tr>\n    <tr>\n      <th>3</th>\n      <td>0.0</td>\n      <td>5.0</td>\n      <td>5.0</td>\n      <td>5.0</td>\n      <td>NaN</td>\n    </tr>\n  </tbody>\n</table>\n</div>"
     },
     "metadata": {},
     "output_type": "execute_result",
     "execution_count": 8
    }
   ],
   "source": [
    "#dataframe\n",
    "import pandas as pd\n",
    "import numpy as np\n",
    "i = [\"A\",\"B\",\"C\",\"D\",\"E\"]\n",
    "o = [2,3]\n",
    "p = pd.DataFrame(np.linspace(1,10,10).reshape(2,5),index=o,columns=i)\n",
    "print(p)\n",
    "p[\"A\"]\n",
    "p[2:3]\n",
    "#.loc方法  根据特征选择  loc[]中的参数都应该为list\n",
    "p.loc[2,[\"A\",\"B\"]]\n",
    "#.iloc方法  根据位置选择   iloc[]中的参数都应该为list\n",
    "p.iloc[1:,1:3]\n",
    "#修改值的方法\n",
    "p.loc[2,[\"A\",\"B\"]] = [2,3]\n",
    "p\n",
    "p.iloc[0,[0,1]] = [1,2]\n",
    "p\n",
    "p[p > 5] = 5\n",
    "p\n",
    "p.A[p.A>0] = 0\n",
    "p\n",
    "p.E = np.NaN\n",
    "p\n",
    "\n",
    "\n"
   ],
   "metadata": {
    "collapsed": false,
    "pycharm": {
     "name": "#%%\n",
     "is_executing": false
    }
   }
  },
  {
   "cell_type": "code",
   "execution_count": 9,
   "outputs": [
    {
     "data": {
      "text/plain": "     A    B    C    D     E  F\n2  1.0  2.0  3.0  4.0   5.0  4\n3  6.0  7.0  8.0  9.0  10.0  5",
      "text/html": "<div>\n<style scoped>\n    .dataframe tbody tr th:only-of-type {\n        vertical-align: middle;\n    }\n\n    .dataframe tbody tr th {\n        vertical-align: top;\n    }\n\n    .dataframe thead th {\n        text-align: right;\n    }\n</style>\n<table border=\"1\" class=\"dataframe\">\n  <thead>\n    <tr style=\"text-align: right;\">\n      <th></th>\n      <th>A</th>\n      <th>B</th>\n      <th>C</th>\n      <th>D</th>\n      <th>E</th>\n      <th>F</th>\n    </tr>\n  </thead>\n  <tbody>\n    <tr>\n      <th>2</th>\n      <td>1.0</td>\n      <td>2.0</td>\n      <td>3.0</td>\n      <td>4.0</td>\n      <td>5.0</td>\n      <td>4</td>\n    </tr>\n    <tr>\n      <th>3</th>\n      <td>6.0</td>\n      <td>7.0</td>\n      <td>8.0</td>\n      <td>9.0</td>\n      <td>10.0</td>\n      <td>5</td>\n    </tr>\n  </tbody>\n</table>\n</div>"
     },
     "metadata": {},
     "output_type": "execute_result",
     "execution_count": 9
    }
   ],
   "source": [
    "import pandas as pd\n",
    "import numpy as np\n",
    "#添加列\n",
    "p1 = pd.Series([4,5],index=[2,3])\n",
    "p1\n",
    "p = pd.DataFrame(np.linspace(1,10,10).reshape(2,5),index=o,columns=i)\n",
    "p[\"F\"] = p1\n",
    "p\n"
   ],
   "metadata": {
    "collapsed": false,
    "pycharm": {
     "name": "#%%\n",
     "is_executing": false
    }
   }
  },
  {
   "cell_type": "code",
   "execution_count": 10,
   "outputs": [
    {
     "name": "stdout",
     "text": [
      "               A     B     C     D\n",
      "2020-01-01   NaN   2.0   3.0   4.0\n",
      "2020-01-02   5.0   6.0   7.0   8.0\n",
      "2020-01-03   9.0  10.0  11.0  12.0\n",
      "2020-01-04  13.0  14.0  15.0  16.0\n",
      "2020-01-05  17.0  18.0   NaN  20.0\n"
     ],
     "output_type": "stream"
    },
    {
     "data": {
      "text/plain": "False"
     },
     "metadata": {},
     "output_type": "execute_result",
     "execution_count": 10
    }
   ],
   "source": [
    "#处理空数据\n",
    "import pandas as pd\n",
    "import numpy as np\n",
    "i = pd.date_range(start=\"20200101\",end=\"20200105\")\n",
    "c = [\"A\",\"B\",\"C\",\"D\"]\n",
    "p2 = pd.DataFrame(np.linspace(1,20,20).reshape(5,4),index=i,columns=c)\n",
    "p2\n",
    "p2.loc[\"20200101\",\"A\"] = np.NaN\n",
    "p2.loc[\"20200105\",\"C\"] = np.NaN\n",
    "print(p2)\n",
    "#空数据\n",
    "#丢掉行axis=0\n",
    "p2.dropna(axis=0,how=\"any\")\n",
    "#丢掉列axis=1\n",
    "p2.dropna(axis=1,how=\"any\")\n",
    "#填值 nan填value\n",
    "p2.fillna(value=0)\n",
    "#检查空值\n",
    "p2.isna()\n",
    "np.any(p2.isna()==True)\n",
    "np.all(p2.isna()==True)\n",
    "\n"
   ],
   "metadata": {
    "collapsed": false,
    "pycharm": {
     "name": "#%%\n",
     "is_executing": false
    }
   }
  },
  {
   "cell_type": "code",
   "execution_count": 9,
   "outputs": [],
   "source": [
    "#导入与导出\n",
    "import pandas as pd\n",
    "p3 = pd.read_excel(\"././data/test.xlsx\")\n",
    "p3\n",
    "p3.loc[1] = [5,6,7,8]\n",
    "p3.loc[3] = [4,5,6,7]\n",
    "p3.to_excel(\"text1.xlsx\")\n"
   ],
   "metadata": {
    "collapsed": false,
    "pycharm": {
     "name": "#%%\n",
     "is_executing": false
    }
   }
  }
 ],
 "metadata": {
  "kernelspec": {
   "name": "python3",
   "language": "python",
   "display_name": "Python 3"
  },
  "language_info": {
   "codemirror_mode": {
    "name": "ipython",
    "version": 2
   },
   "file_extension": ".py",
   "mimetype": "text/x-python",
   "name": "python",
   "nbconvert_exporter": "python",
   "pygments_lexer": "ipython2",
   "version": "2.7.6"
  },
  "pycharm": {
   "stem_cell": {
    "cell_type": "raw",
    "source": [],
    "metadata": {
     "collapsed": false
    }
   }
  }
 },
 "nbformat": 4,
 "nbformat_minor": 0
}