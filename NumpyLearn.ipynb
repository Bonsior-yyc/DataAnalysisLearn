{
 "cells": [
  {
   "cell_type": "code",
   "execution_count": 68,
   "metadata": {
    "collapsed": true,
    "pycharm": {
     "name": "#%%\n",
     "is_executing": false
    }
   },
   "outputs": [],
   "source": [
    "#numpy学习"
   ]
  },
  {
   "cell_type": "code",
   "execution_count": 69,
   "outputs": [
    {
     "name": "stdout",
     "text": [
      "[[4 8 1 9 3]\n",
      " [7 7 7 6 5]\n",
      " [5 6 8 6 9]\n",
      " [8 3 9 3 9]\n",
      " [7 9 4 5 6]]\n",
      "[[4 7 5 8 7]\n",
      " [8 7 6 3 9]\n",
      " [1 7 8 9 4]\n",
      " [9 6 6 3 5]\n",
      " [3 5 9 9 6]]\n"
     ],
     "output_type": "stream"
    },
    {
     "data": {
      "text/plain": "array(['1', '2', '0', 'True', 'nan', 'ahhsha'], dtype='<U32')"
     },
     "metadata": {},
     "output_type": "execute_result",
     "execution_count": 69
    }
   ],
   "source": [
    "#numoy array\n",
    "import numpy as np\n",
    "#创建数组\n",
    "np.array([[1,2,3],[4,5,6],[7,8,9]])\n",
    "np.arange(10)\n",
    "np.arange(1,10)\n",
    "np.linspace(start=1,stop=100,num=50)\n",
    "np.linspace(1,100,50).reshape(5,10)\n",
    "np.linspace(0,100,10).reshape(2,5).flatten()\n",
    "a = np.array([[1,2,3,4,5],[6,7,8,9,10]])\n",
    "#判断条件\n",
    "a > 5\n",
    "np.ones(10).reshape(2,5)\n",
    "np.zeros(10).reshape(2,5)\n",
    "np.eye(10)\n",
    "#随机数\n",
    "np.random.rand(10)\n",
    "np.random.random((3,4))\n",
    "np.random.randint(1,10,(3,4))\n",
    "np.copy(a)\n",
    "a[1]\n",
    "a[1][2]\n",
    "b = np.random.randint(1,10,(5,5))\n",
    "np.unique(b)\n",
    "print(b)\n",
    "#转置矩阵\n",
    "print(b.T)\n",
    "#逆矩阵\n",
    "np.linalg.inv(b)\n",
    "c = np.eye(5)\n",
    "#叉乘和点乘\n",
    "np.dot(b,c)\n",
    "b * c\n",
    "#索引\n",
    "b[1:3,2:4]\n",
    "b[1,2]\n",
    "b[b>2]\n",
    "np.array([1,2,0,True,np.NaN,\"hello world\"])\n",
    "\n",
    "\n",
    "\n"
   ],
   "metadata": {
    "collapsed": false,
    "pycharm": {
     "name": "#%%\n",
     "is_executing": false
    }
   }
  }
 ],
 "metadata": {
  "kernelspec": {
   "display_name": "Python 3",
   "language": "python",
   "name": "python3"
  },
  "language_info": {
   "codemirror_mode": {
    "name": "ipython",
    "version": 2
   },
   "file_extension": ".py",
   "mimetype": "text/x-python",
   "name": "python",
   "nbconvert_exporter": "python",
   "pygments_lexer": "ipython2",
   "version": "2.7.6"
  },
  "pycharm": {
   "stem_cell": {
    "cell_type": "raw",
    "source": [],
    "metadata": {
     "collapsed": false
    }
   }
  }
 },
 "nbformat": 4,
 "nbformat_minor": 0
}