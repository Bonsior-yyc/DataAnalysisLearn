{
 "cells": [
  {
   "cell_type": "code",
   "execution_count": 17,
   "metadata": {
    "collapsed": true,
    "pycharm": {
     "is_executing": false
    }
   },
   "outputs": [
    {
     "data": {
      "text/plain": "tensor([[1., 2.],\n        [3., 4.]], requires_grad=True)"
     },
     "metadata": {},
     "output_type": "execute_result",
     "execution_count": 17
    }
   ],
   "source": [
    "import torch \n",
    "import numpy as np\n",
    "from torch.autograd import Variable\n",
    "#torch和numpy的一些转换\n",
    "np1 = np.arange(6).reshape(2,3)\n",
    "torch1 = torch.from_numpy(np1)\n",
    "torch1\n",
    "np2 = torch1.numpy()\n",
    "\n",
    "#声明\n",
    "a1 = [1,2,3,4,5,6]\n",
    "torch2 = torch.FloatTensor(a1)\n",
    "torch2\n",
    "torch3 = torch.sin(torch2)\n",
    "torch3\n",
    "torch4 = torch.FloatTensor([[1,2],[3,4]])\n",
    "torch5 = torch.mm(torch4,torch4)\n",
    "torch5\n",
    "\n",
    "#variable\n",
    "variable = Variable(torch4,requires_grad=True)\n",
    "variable"
   ]
  }
 ],
 "metadata": {
  "kernelspec": {
   "display_name": "Python 3",
   "language": "python",
   "name": "python3"
  },
  "language_info": {
   "codemirror_mode": {
    "name": "ipython",
    "version": 2
   },
   "file_extension": ".py",
   "mimetype": "text/x-python",
   "name": "python",
   "nbconvert_exporter": "python",
   "pygments_lexer": "ipython2",
   "version": "2.7.6"
  },
  "pycharm": {
   "stem_cell": {
    "cell_type": "raw",
    "source": [],
    "metadata": {
     "collapsed": false
    }
   }
  }
 },
 "nbformat": 4,
 "nbformat_minor": 0
}